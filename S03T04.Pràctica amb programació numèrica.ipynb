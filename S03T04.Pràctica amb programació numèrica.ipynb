{
 "cells": [
  {
   "cell_type": "markdown",
   "id": "2d2781af",
   "metadata": {},
   "source": [
    "# Nivell 1 ⭐️"
   ]
  },
  {
   "cell_type": "markdown",
   "id": "2dd844da",
   "metadata": {},
   "source": [
    "#### Exercici 1\n",
    "\n",
    "Crea una funció que donat un Array d’una dimensió, et faci un resum estadístic bàsic de les dades. Si detecta que l’array té més d’una dimensió, ha de mostrar un missatge d’error."
   ]
  },
  {
   "cell_type": "code",
   "execution_count": 2,
   "id": "996cbe3a",
   "metadata": {},
   "outputs": [],
   "source": [
    "import numpy as np\n",
    "from numpy import random"
   ]
  },
  {
   "cell_type": "code",
   "execution_count": 3,
   "id": "ed31d5b8",
   "metadata": {
    "scrolled": true
   },
   "outputs": [
    {
     "name": "stdout",
     "output_type": "stream",
     "text": [
      "Contingut de la primera array:  \n",
      " [34 47 13 30 41] \n",
      "\n",
      "Contingut de la segona array:  \n",
      " [[ 5 94 41  7 95]\n",
      " [ 3 88 37 46 61]\n",
      " [98 55 34 80 55]] \n",
      "\n",
      "\n",
      "Resum estadistic basic de les dades de l'array:\n",
      "\n",
      "Mitja: 33.0\n",
      "Mediana: 34.0\n",
      "Coeficient de correlacio: 1.0\n",
      "Desviacio estandard: 11.575836902790225\n",
      "\n",
      "Array no valida. Introduir array d'una dimensio\n"
     ]
    }
   ],
   "source": [
    "def resumEstadistic(array): #this function receives an array as a parameter and show a basic statistics data\n",
    "    if array.ndim > 1:      #if the array has more than 1 dimension shows an error missage\n",
    "        print(\"Array no valida. Introduir array d'una dimensio\")\n",
    "    else:\n",
    "        print(\"Resum estadistic basic de les dades de l'array:\")\n",
    "        print()\n",
    "        print(\"Mitja:\",array.mean()) #compute the arithmetic mean along an axis\n",
    "        print(\"Mediana:\",np.median(array)) #compute the median along an axis\n",
    "        print(\"Coeficient de correlacio:\",np.corrcoef(array)) #return Pearson product-moment correlation coefficients\n",
    "        print(\"Desviacio estandard:\",np.std(array)) #compute the standard deviation along an axis\n",
    "        \n",
    "array1 = random.randint(100, size=(5)) #generate a 1D random array with 5 values from 0-100\n",
    "print(\"Contingut de la primera array: \",'\\n',array1,'\\n')\n",
    "\n",
    "array2 = random.randint(100, size=(3,5)) #generate a 2D random array with 3 rows and 5 values from 0-100\n",
    "print(\"Contingut de la segona array: \",'\\n',array2,'\\n')\n",
    "\n",
    "print()\n",
    "\n",
    "resumEstadistic(array1)\n",
    "print()\n",
    "resumEstadistic(array2)"
   ]
  },
  {
   "cell_type": "markdown",
   "id": "8e0dc6df",
   "metadata": {},
   "source": [
    "___"
   ]
  },
  {
   "cell_type": "markdown",
   "id": "fc50b604",
   "metadata": {},
   "source": [
    "#### Exercici 2\n",
    "\n",
    "Crea una funció que et generi un quadrat NxN de nombres aleatoris entre el 0 i el 100."
   ]
  },
  {
   "cell_type": "code",
   "execution_count": 4,
   "id": "3c2248e9",
   "metadata": {},
   "outputs": [
    {
     "name": "stdout",
     "output_type": "stream",
     "text": [
      "[[82 61 92 11 69]\n",
      " [72 12 99 12 28]\n",
      " [81 66 93 25 15]\n",
      " [36 54 80 89  3]\n",
      " [85 31 15  2 64]]\n"
     ]
    }
   ],
   "source": [
    "def genCuadrat(mida): #this function receives and integer and generates a random values array of the parameter size\n",
    "    if mida > 1:\n",
    "        array = random.randint(100, size=(mida,mida))\n",
    "        print(array)\n",
    "    else:\n",
    "        print(\"Mida del cuadrat no valida.\")\n",
    "    \n",
    "genCuadrat(5)"
   ]
  },
  {
   "cell_type": "markdown",
   "id": "0a135787",
   "metadata": {},
   "source": [
    "___"
   ]
  },
  {
   "cell_type": "markdown",
   "id": "54d1adc5",
   "metadata": {},
   "source": [
    "#### Exercici 3\n",
    "\n",
    "Crea una funció que donada una taula de dues dimensions, et calculi els totals per fila i els totals per columna."
   ]
  },
  {
   "cell_type": "code",
   "execution_count": 11,
   "id": "738f1423",
   "metadata": {
    "scrolled": true
   },
   "outputs": [
    {
     "name": "stdout",
     "output_type": "stream",
     "text": [
      "Contingut de la taula:  \n",
      " [[31 20 41 52  4]\n",
      " [51 36 68 51 15]\n",
      " [11 41 77 69 42]\n",
      " [26 74 88 74 59]\n",
      " [75 83 85 73 73]]\n",
      "\n",
      "Suma de les columnes:  [194 254 359 319 193]\n",
      "Suma de les files:  [148 221 240 321 389]\n"
     ]
    }
   ],
   "source": [
    "taula = random.randint(100,size=(5,5))\n",
    "print(\"Contingut de la taula: \",'\\n', taula)\n",
    "print()\n",
    "def sumRowCol(taula): #this function recieves an array and sum columns and rows\n",
    "    print(\"Suma de les columnes: \", taula.sum(axis=0))\n",
    "    print(\"Suma de les files: \", taula.sum(axis=1))\n",
    "    \n",
    "sumRowCol(taula)"
   ]
  },
  {
   "cell_type": "markdown",
   "id": "be42e701",
   "metadata": {},
   "source": [
    "___"
   ]
  },
  {
   "cell_type": "markdown",
   "id": "176b4455",
   "metadata": {},
   "source": [
    "#### Exercici 4\n",
    "\n",
    "Implementa manualment una funció que calculi el coeficient de correlació. Informa’t-en sobre els seus usos i interpretació."
   ]
  },
  {
   "cell_type": "markdown",
   "id": "22e92ef7",
   "metadata": {},
   "source": [
    "Per coeficient de correlacio, o coeficient de correlacio de Pearson, entenem per una estadistica que reflexa el grau de correlacio lineal entre dos variable.\n",
    "\n",
    "La seva interpretacio s'extreu del valor resultant:\n",
    "0.8-1.0 --> Correlacio molt forta\n",
    "0.6-0.8 --> Correlacio forta\n",
    "0.4-0.6 --> Correlacio moderada\n",
    "0.2-0.4 --> Correlacio debil\n",
    "0.0-0.2 --> Correlacio molt debil o sense correlacio"
   ]
  },
  {
   "cell_type": "code",
   "execution_count": 12,
   "id": "fa13d9c4",
   "metadata": {
    "scrolled": true
   },
   "outputs": [
    {
     "data": {
      "text/plain": [
       "0.9999999999999998"
      ]
     },
     "execution_count": 12,
     "metadata": {},
     "output_type": "execute_result"
    }
   ],
   "source": [
    "def corrCoef(array1,array2):\n",
    "    media1 = array1.mean()\n",
    "    media2 = array2.mean()\n",
    "    standard1 = array1.std()\n",
    "    standard2 = array2.std()\n",
    "    \n",
    "    corr = ((array1*array2).mean()-media1*media2)/(standard1*standard2)\n",
    "    return corr\n",
    "\n",
    "prueba1 = np.array([0,1,2])\n",
    "prueba2 = np.array([2,3,4])\n",
    "\n",
    "corrCoef(prueba1,prueba2)"
   ]
  },
  {
   "cell_type": "markdown",
   "id": "dd43e640",
   "metadata": {},
   "source": [
    "___"
   ]
  }
 ],
 "metadata": {
  "kernelspec": {
   "display_name": "Python 3",
   "language": "python",
   "name": "python3"
  },
  "language_info": {
   "codemirror_mode": {
    "name": "ipython",
    "version": 3
   },
   "file_extension": ".py",
   "mimetype": "text/x-python",
   "name": "python",
   "nbconvert_exporter": "python",
   "pygments_lexer": "ipython3",
   "version": "3.8.8"
  }
 },
 "nbformat": 4,
 "nbformat_minor": 5
}
